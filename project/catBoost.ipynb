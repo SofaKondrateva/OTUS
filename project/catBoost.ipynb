{
 "cells": [
  {
   "cell_type": "code",
   "execution_count": 2,
   "metadata": {},
   "outputs": [],
   "source": [
    "from catboost import CatBoostClassifier\n",
    "import numpy as np\n",
    "import pandas as pd\n",
    "import seaborn as sns\n",
    "sns.set_style(\"whitegrid\")\n",
    "import matplotlib\n",
    "import matplotlib.pyplot as plt\n",
    "\n",
    "from sklearn.linear_model import LogisticRegression\n",
    "from sklearn.model_selection import train_test_split, GridSearchCV\n",
    "from sklearn.preprocessing import StandardScaler\n",
    "from sklearn.neighbors import KNeighborsClassifier\n",
    "\n",
    "from sklearn.metrics import accuracy_score, precision_score, recall_score, f1_score, roc_auc_score, roc_curve, auc"
   ]
  },
  {
   "cell_type": "code",
   "execution_count": 38,
   "metadata": {},
   "outputs": [],
   "source": [
    "data = pd.read_excel('eda_project_data.xlsx')"
   ]
  },
  {
   "cell_type": "code",
   "execution_count": 39,
   "metadata": {},
   "outputs": [
    {
     "data": {
      "text/html": [
       "<div>\n",
       "<style scoped>\n",
       "    .dataframe tbody tr th:only-of-type {\n",
       "        vertical-align: middle;\n",
       "    }\n",
       "\n",
       "    .dataframe tbody tr th {\n",
       "        vertical-align: top;\n",
       "    }\n",
       "\n",
       "    .dataframe thead th {\n",
       "        text-align: right;\n",
       "    }\n",
       "</style>\n",
       "<table border=\"1\" class=\"dataframe\">\n",
       "  <thead>\n",
       "    <tr style=\"text-align: right;\">\n",
       "      <th></th>\n",
       "      <th>region</th>\n",
       "      <th>category</th>\n",
       "      <th>requested_amount</th>\n",
       "      <th>total_amount</th>\n",
       "      <th>status</th>\n",
       "      <th>grant_amount</th>\n",
       "      <th>duration</th>\n",
       "      <th>project_number</th>\n",
       "      <th>win_project_number</th>\n",
       "      <th>win_proportion</th>\n",
       "      <th>requested_total_proportion</th>\n",
       "      <th>grant_requested_proportion</th>\n",
       "      <th>grant_total_propotion</th>\n",
       "    </tr>\n",
       "  </thead>\n",
       "  <tbody>\n",
       "    <tr>\n",
       "      <th>0</th>\n",
       "      <td>Республика Саха (Якутия)</td>\n",
       "      <td>охрана здоровья граждан, пропаганда здорового ...</td>\n",
       "      <td>499810.00</td>\n",
       "      <td>516172.50</td>\n",
       "      <td>победитель конкурса</td>\n",
       "      <td>499810.00</td>\n",
       "      <td>455.0</td>\n",
       "      <td>0</td>\n",
       "      <td>0</td>\n",
       "      <td>0.0</td>\n",
       "      <td>0.968300</td>\n",
       "      <td>1.0</td>\n",
       "      <td>0.968300</td>\n",
       "    </tr>\n",
       "    <tr>\n",
       "      <th>1</th>\n",
       "      <td>Москва</td>\n",
       "      <td>социальное обслуживание, социальная поддержка ...</td>\n",
       "      <td>12546289.26</td>\n",
       "      <td>20431838.57</td>\n",
       "      <td>победитель конкурса</td>\n",
       "      <td>12546289.26</td>\n",
       "      <td>455.0</td>\n",
       "      <td>0</td>\n",
       "      <td>0</td>\n",
       "      <td>0.0</td>\n",
       "      <td>0.614056</td>\n",
       "      <td>1.0</td>\n",
       "      <td>0.614056</td>\n",
       "    </tr>\n",
       "    <tr>\n",
       "      <th>2</th>\n",
       "      <td>Волгоградская область</td>\n",
       "      <td>социальное обслуживание, социальная поддержка ...</td>\n",
       "      <td>2108676.00</td>\n",
       "      <td>5570400.00</td>\n",
       "      <td>победитель конкурса</td>\n",
       "      <td>2108676.00</td>\n",
       "      <td>455.0</td>\n",
       "      <td>0</td>\n",
       "      <td>0</td>\n",
       "      <td>0.0</td>\n",
       "      <td>0.378550</td>\n",
       "      <td>1.0</td>\n",
       "      <td>0.378550</td>\n",
       "    </tr>\n",
       "    <tr>\n",
       "      <th>3</th>\n",
       "      <td>Москва</td>\n",
       "      <td>развитие институтов гражданского общества</td>\n",
       "      <td>5233932.00</td>\n",
       "      <td>7715932.00</td>\n",
       "      <td>проект не получил поддержки</td>\n",
       "      <td>0.00</td>\n",
       "      <td>364.0</td>\n",
       "      <td>0</td>\n",
       "      <td>0</td>\n",
       "      <td>0.0</td>\n",
       "      <td>0.678328</td>\n",
       "      <td>0.0</td>\n",
       "      <td>0.000000</td>\n",
       "    </tr>\n",
       "    <tr>\n",
       "      <th>4</th>\n",
       "      <td>Москва</td>\n",
       "      <td>развитие институтов гражданского общества</td>\n",
       "      <td>2960275.00</td>\n",
       "      <td>5687025.00</td>\n",
       "      <td>победитель конкурса</td>\n",
       "      <td>2960275.00</td>\n",
       "      <td>395.0</td>\n",
       "      <td>0</td>\n",
       "      <td>0</td>\n",
       "      <td>0.0</td>\n",
       "      <td>0.520531</td>\n",
       "      <td>1.0</td>\n",
       "      <td>0.520531</td>\n",
       "    </tr>\n",
       "  </tbody>\n",
       "</table>\n",
       "</div>"
      ],
      "text/plain": [
       "                     region  \\\n",
       "0  Республика Саха (Якутия)   \n",
       "1                    Москва   \n",
       "2     Волгоградская область   \n",
       "3                    Москва   \n",
       "4                    Москва   \n",
       "\n",
       "                                            category  requested_amount  \\\n",
       "0  охрана здоровья граждан, пропаганда здорового ...         499810.00   \n",
       "1  социальное обслуживание, социальная поддержка ...       12546289.26   \n",
       "2  социальное обслуживание, социальная поддержка ...        2108676.00   \n",
       "3          развитие институтов гражданского общества        5233932.00   \n",
       "4          развитие институтов гражданского общества        2960275.00   \n",
       "\n",
       "   total_amount                       status  grant_amount  duration  \\\n",
       "0     516172.50          победитель конкурса     499810.00     455.0   \n",
       "1   20431838.57          победитель конкурса   12546289.26     455.0   \n",
       "2    5570400.00          победитель конкурса    2108676.00     455.0   \n",
       "3    7715932.00  проект не получил поддержки          0.00     364.0   \n",
       "4    5687025.00          победитель конкурса    2960275.00     395.0   \n",
       "\n",
       "   project_number  win_project_number  win_proportion  \\\n",
       "0               0                   0             0.0   \n",
       "1               0                   0             0.0   \n",
       "2               0                   0             0.0   \n",
       "3               0                   0             0.0   \n",
       "4               0                   0             0.0   \n",
       "\n",
       "   requested_total_proportion  grant_requested_proportion  \\\n",
       "0                    0.968300                         1.0   \n",
       "1                    0.614056                         1.0   \n",
       "2                    0.378550                         1.0   \n",
       "3                    0.678328                         0.0   \n",
       "4                    0.520531                         1.0   \n",
       "\n",
       "   grant_total_propotion  \n",
       "0               0.968300  \n",
       "1               0.614056  \n",
       "2               0.378550  \n",
       "3               0.000000  \n",
       "4               0.520531  "
      ]
     },
     "execution_count": 39,
     "metadata": {},
     "output_type": "execute_result"
    }
   ],
   "source": [
    "data.head(5)"
   ]
  },
  {
   "cell_type": "code",
   "execution_count": 40,
   "metadata": {},
   "outputs": [],
   "source": [
    "data.drop(['grant_amount', 'grant_requested_proportion', 'grant_total_propotion'], axis=1, inplace=True)"
   ]
  },
  {
   "cell_type": "code",
   "execution_count": 41,
   "metadata": {},
   "outputs": [],
   "source": [
    "data['status'] = data['status'].apply(lambda x: 1 if x == 'победитель конкурса' else 0)"
   ]
  },
  {
   "cell_type": "code",
   "execution_count": 42,
   "metadata": {},
   "outputs": [
    {
     "data": {
      "text/html": [
       "<div>\n",
       "<style scoped>\n",
       "    .dataframe tbody tr th:only-of-type {\n",
       "        vertical-align: middle;\n",
       "    }\n",
       "\n",
       "    .dataframe tbody tr th {\n",
       "        vertical-align: top;\n",
       "    }\n",
       "\n",
       "    .dataframe thead th {\n",
       "        text-align: right;\n",
       "    }\n",
       "</style>\n",
       "<table border=\"1\" class=\"dataframe\">\n",
       "  <thead>\n",
       "    <tr style=\"text-align: right;\">\n",
       "      <th></th>\n",
       "      <th>region</th>\n",
       "      <th>category</th>\n",
       "      <th>requested_amount</th>\n",
       "      <th>total_amount</th>\n",
       "      <th>status</th>\n",
       "      <th>duration</th>\n",
       "      <th>project_number</th>\n",
       "      <th>win_project_number</th>\n",
       "      <th>win_proportion</th>\n",
       "      <th>requested_total_proportion</th>\n",
       "    </tr>\n",
       "  </thead>\n",
       "  <tbody>\n",
       "    <tr>\n",
       "      <th>0</th>\n",
       "      <td>Республика Саха (Якутия)</td>\n",
       "      <td>охрана здоровья граждан, пропаганда здорового ...</td>\n",
       "      <td>499810.00</td>\n",
       "      <td>516172.50</td>\n",
       "      <td>1</td>\n",
       "      <td>455.0</td>\n",
       "      <td>0</td>\n",
       "      <td>0</td>\n",
       "      <td>0.000000</td>\n",
       "      <td>0.968300</td>\n",
       "    </tr>\n",
       "    <tr>\n",
       "      <th>1</th>\n",
       "      <td>Москва</td>\n",
       "      <td>социальное обслуживание, социальная поддержка ...</td>\n",
       "      <td>12546289.26</td>\n",
       "      <td>20431838.57</td>\n",
       "      <td>1</td>\n",
       "      <td>455.0</td>\n",
       "      <td>0</td>\n",
       "      <td>0</td>\n",
       "      <td>0.000000</td>\n",
       "      <td>0.614056</td>\n",
       "    </tr>\n",
       "    <tr>\n",
       "      <th>2</th>\n",
       "      <td>Волгоградская область</td>\n",
       "      <td>социальное обслуживание, социальная поддержка ...</td>\n",
       "      <td>2108676.00</td>\n",
       "      <td>5570400.00</td>\n",
       "      <td>1</td>\n",
       "      <td>455.0</td>\n",
       "      <td>0</td>\n",
       "      <td>0</td>\n",
       "      <td>0.000000</td>\n",
       "      <td>0.378550</td>\n",
       "    </tr>\n",
       "    <tr>\n",
       "      <th>3</th>\n",
       "      <td>Москва</td>\n",
       "      <td>развитие институтов гражданского общества</td>\n",
       "      <td>5233932.00</td>\n",
       "      <td>7715932.00</td>\n",
       "      <td>0</td>\n",
       "      <td>364.0</td>\n",
       "      <td>0</td>\n",
       "      <td>0</td>\n",
       "      <td>0.000000</td>\n",
       "      <td>0.678328</td>\n",
       "    </tr>\n",
       "    <tr>\n",
       "      <th>4</th>\n",
       "      <td>Москва</td>\n",
       "      <td>развитие институтов гражданского общества</td>\n",
       "      <td>2960275.00</td>\n",
       "      <td>5687025.00</td>\n",
       "      <td>1</td>\n",
       "      <td>395.0</td>\n",
       "      <td>0</td>\n",
       "      <td>0</td>\n",
       "      <td>0.000000</td>\n",
       "      <td>0.520531</td>\n",
       "    </tr>\n",
       "    <tr>\n",
       "      <th>...</th>\n",
       "      <td>...</td>\n",
       "      <td>...</td>\n",
       "      <td>...</td>\n",
       "      <td>...</td>\n",
       "      <td>...</td>\n",
       "      <td>...</td>\n",
       "      <td>...</td>\n",
       "      <td>...</td>\n",
       "      <td>...</td>\n",
       "      <td>...</td>\n",
       "    </tr>\n",
       "    <tr>\n",
       "      <th>101641</th>\n",
       "      <td>Иркутская область</td>\n",
       "      <td>Поддержка семьи, материнства, отцовства  и дет...</td>\n",
       "      <td>488663.00</td>\n",
       "      <td>588743.00</td>\n",
       "      <td>0</td>\n",
       "      <td>180.0</td>\n",
       "      <td>0</td>\n",
       "      <td>0</td>\n",
       "      <td>0.000000</td>\n",
       "      <td>0.830011</td>\n",
       "    </tr>\n",
       "    <tr>\n",
       "      <th>101642</th>\n",
       "      <td>Москва</td>\n",
       "      <td>Социальное обслуживание, социальная поддержка ...</td>\n",
       "      <td>740571.90</td>\n",
       "      <td>1047124.90</td>\n",
       "      <td>1</td>\n",
       "      <td>120.0</td>\n",
       "      <td>0</td>\n",
       "      <td>0</td>\n",
       "      <td>0.000000</td>\n",
       "      <td>0.707243</td>\n",
       "    </tr>\n",
       "    <tr>\n",
       "      <th>101643</th>\n",
       "      <td>Москва</td>\n",
       "      <td>Укрепление межнационального и межрелигиозного ...</td>\n",
       "      <td>2994680.00</td>\n",
       "      <td>4473680.00</td>\n",
       "      <td>0</td>\n",
       "      <td>305.0</td>\n",
       "      <td>7</td>\n",
       "      <td>1</td>\n",
       "      <td>0.142857</td>\n",
       "      <td>0.669400</td>\n",
       "    </tr>\n",
       "    <tr>\n",
       "      <th>101644</th>\n",
       "      <td>Самарская область</td>\n",
       "      <td>Защита прав и свобод человека и гражданина, в ...</td>\n",
       "      <td>464310.00</td>\n",
       "      <td>725326.00</td>\n",
       "      <td>0</td>\n",
       "      <td>180.0</td>\n",
       "      <td>1</td>\n",
       "      <td>0</td>\n",
       "      <td>0.000000</td>\n",
       "      <td>0.640140</td>\n",
       "    </tr>\n",
       "    <tr>\n",
       "      <th>101645</th>\n",
       "      <td>Севастополь</td>\n",
       "      <td>Охрана здоровья граждан, пропаганда здорового ...</td>\n",
       "      <td>2620230.00</td>\n",
       "      <td>6440230.00</td>\n",
       "      <td>1</td>\n",
       "      <td>303.0</td>\n",
       "      <td>0</td>\n",
       "      <td>0</td>\n",
       "      <td>0.000000</td>\n",
       "      <td>0.406853</td>\n",
       "    </tr>\n",
       "  </tbody>\n",
       "</table>\n",
       "<p>101646 rows × 10 columns</p>\n",
       "</div>"
      ],
      "text/plain": [
       "                          region  \\\n",
       "0       Республика Саха (Якутия)   \n",
       "1                         Москва   \n",
       "2          Волгоградская область   \n",
       "3                         Москва   \n",
       "4                         Москва   \n",
       "...                          ...   \n",
       "101641         Иркутская область   \n",
       "101642                    Москва   \n",
       "101643                    Москва   \n",
       "101644         Самарская область   \n",
       "101645               Севастополь   \n",
       "\n",
       "                                                 category  requested_amount  \\\n",
       "0       охрана здоровья граждан, пропаганда здорового ...         499810.00   \n",
       "1       социальное обслуживание, социальная поддержка ...       12546289.26   \n",
       "2       социальное обслуживание, социальная поддержка ...        2108676.00   \n",
       "3               развитие институтов гражданского общества        5233932.00   \n",
       "4               развитие институтов гражданского общества        2960275.00   \n",
       "...                                                   ...               ...   \n",
       "101641  Поддержка семьи, материнства, отцовства  и дет...         488663.00   \n",
       "101642  Социальное обслуживание, социальная поддержка ...         740571.90   \n",
       "101643  Укрепление межнационального и межрелигиозного ...        2994680.00   \n",
       "101644  Защита прав и свобод человека и гражданина, в ...         464310.00   \n",
       "101645  Охрана здоровья граждан, пропаганда здорового ...        2620230.00   \n",
       "\n",
       "        total_amount  status  duration  project_number  win_project_number  \\\n",
       "0          516172.50       1     455.0               0                   0   \n",
       "1        20431838.57       1     455.0               0                   0   \n",
       "2         5570400.00       1     455.0               0                   0   \n",
       "3         7715932.00       0     364.0               0                   0   \n",
       "4         5687025.00       1     395.0               0                   0   \n",
       "...              ...     ...       ...             ...                 ...   \n",
       "101641     588743.00       0     180.0               0                   0   \n",
       "101642    1047124.90       1     120.0               0                   0   \n",
       "101643    4473680.00       0     305.0               7                   1   \n",
       "101644     725326.00       0     180.0               1                   0   \n",
       "101645    6440230.00       1     303.0               0                   0   \n",
       "\n",
       "        win_proportion  requested_total_proportion  \n",
       "0             0.000000                    0.968300  \n",
       "1             0.000000                    0.614056  \n",
       "2             0.000000                    0.378550  \n",
       "3             0.000000                    0.678328  \n",
       "4             0.000000                    0.520531  \n",
       "...                ...                         ...  \n",
       "101641        0.000000                    0.830011  \n",
       "101642        0.000000                    0.707243  \n",
       "101643        0.142857                    0.669400  \n",
       "101644        0.000000                    0.640140  \n",
       "101645        0.000000                    0.406853  \n",
       "\n",
       "[101646 rows x 10 columns]"
      ]
     },
     "execution_count": 42,
     "metadata": {},
     "output_type": "execute_result"
    }
   ],
   "source": [
    "data"
   ]
  },
  {
   "cell_type": "code",
   "execution_count": 43,
   "metadata": {},
   "outputs": [],
   "source": [
    "df1 = data[data['status'] == 0].head(22000)\n",
    "df2 = data[data['status'] ==1]\n",
    "balanced_data = pd.concat([df1, df2])"
   ]
  },
  {
   "cell_type": "code",
   "execution_count": 9,
   "metadata": {},
   "outputs": [],
   "source": [
    "data = balanced_data"
   ]
  },
  {
   "cell_type": "code",
   "execution_count": 10,
   "metadata": {},
   "outputs": [],
   "source": [
    "# построим ROC-кривую\n",
    "def plot_roc_curve(y_test, y_pred):\n",
    "    fper, tper, thresholds = roc_curve(y_test, y_pred)\n",
    "    roc_auc = auc(fper, tper)\n",
    "    plt.plot(fper, tper, color='green', label=f'ROC-кривая (area = {roc_auc:.3f})')\n",
    "    plt.plot([0, 1], [0, 1], color='red', linestyle='--')\n",
    "    plt.xlabel('False Positive Rate')\n",
    "    plt.ylabel('True Positive Rate')\n",
    "    plt.title(f'ROC AUC (area = {roc_auc:.3f})')\n",
    "    plt.legend(loc=\"lower right\")\n",
    "    plt.show()"
   ]
  },
  {
   "cell_type": "code",
   "execution_count": 11,
   "metadata": {},
   "outputs": [],
   "source": [
    "### Quality func\n",
    "def quality_report(prediction, actual):\n",
    "    print((f\" Accuracy: {accuracy_score(prediction, actual):.3f}\\n \\\n",
    "Precision: {precision_score(prediction, actual):.3f}\\n \\\n",
    "Recall: {recall_score(prediction, actual):.3f}\\n \\\n",
    "f1_score: {f1_score(prediction, actual):.3f}\"))"
   ]
  },
  {
   "cell_type": "code",
   "execution_count": 44,
   "metadata": {},
   "outputs": [],
   "source": [
    "X = data.drop('status', axis=1)\n",
    "Y = data['status']\n",
    "#Train test split\n",
    "train_X, X_test, train_Y, y_test = train_test_split(X, Y, test_size=0.2, random_state=42)\n",
    "train_X.shape, X_test.shape, train_Y.shape, y_test.shape\n",
    "\n",
    "\n",
    "# validation-train split\n",
    "X_train, X_validation, y_train, y_validation = train_test_split(train_X, train_Y, train_size=0.75, random_state=42)\n"
   ]
  },
  {
   "cell_type": "code",
   "execution_count": 45,
   "metadata": {},
   "outputs": [],
   "source": [
    "# validation-train split\n",
    "X_train, X_validation, y_train, y_validation = train_test_split(train_X, train_Y, train_size=0.75, random_state=42)\n"
   ]
  },
  {
   "cell_type": "code",
   "execution_count": 52,
   "metadata": {},
   "outputs": [
    {
     "ename": "TypeError",
     "evalue": "__init__() got an unexpected keyword argument 'roc_file'",
     "output_type": "error",
     "traceback": [
      "\u001b[0;31m---------------------------------------------------------------------------\u001b[0m",
      "\u001b[0;31mTypeError\u001b[0m                                 Traceback (most recent call last)",
      "\u001b[0;32m<ipython-input-52-0e5f45c44199>\u001b[0m in \u001b[0;36m<module>\u001b[0;34m\u001b[0m\n\u001b[1;32m      1\u001b[0m \u001b[0;31m# {'params': {'depth': 5, 'iterations': 400, 'learning_rate': 0.03}\u001b[0m\u001b[0;34m\u001b[0m\u001b[0;34m\u001b[0m\u001b[0;34m\u001b[0m\u001b[0m\n\u001b[0;32m----> 2\u001b[0;31m est = CatBoostClassifier(iterations=500, \n\u001b[0m\u001b[1;32m      3\u001b[0m                          \u001b[0mcat_features\u001b[0m\u001b[0;34m=\u001b[0m\u001b[0;34m[\u001b[0m\u001b[0;34m'region'\u001b[0m\u001b[0;34m,\u001b[0m \u001b[0;34m'category'\u001b[0m\u001b[0;34m]\u001b[0m\u001b[0;34m,\u001b[0m\u001b[0;34m\u001b[0m\u001b[0;34m\u001b[0m\u001b[0m\n\u001b[1;32m      4\u001b[0m                          \u001b[0mlogging_level\u001b[0m\u001b[0;34m=\u001b[0m\u001b[0;34m'Silent'\u001b[0m\u001b[0;34m,\u001b[0m\u001b[0;34m\u001b[0m\u001b[0;34m\u001b[0m\u001b[0m\n\u001b[1;32m      5\u001b[0m \u001b[0;31m#                          loss_function='',\u001b[0m\u001b[0;34m\u001b[0m\u001b[0;34m\u001b[0m\u001b[0;34m\u001b[0m\u001b[0m\n",
      "\u001b[0;31mTypeError\u001b[0m: __init__() got an unexpected keyword argument 'roc_file'"
     ]
    }
   ],
   "source": [
    "# {'params': {'depth': 5, 'iterations': 400, 'learning_rate': 0.03}\n",
    "est = CatBoostClassifier(iterations=500, \n",
    "                         cat_features=['region', 'category'],\n",
    "                         logging_level='Silent', \n",
    "#                          loss_function='', \n",
    "                         eval_metric='Precision',\n",
    "                         learning_rate = 0.05,\n",
    "                         max_depth = 5, \n",
    "                        roc_file = \"roc-file\")\n",
    "est.fit(\n",
    "    X_train, y_train,\n",
    "    cat_features=['region', 'category'],\n",
    "    eval_set=(X_validation, y_validation),\n",
    "    plot=True\n",
    ")\n",
    "\n",
    "quality_report(est.predict(X_test), y_test)\n",
    "print('ROC-AUC', round(roc_auc_score(y_test, est.predict_proba(X_test)[:,1]),3))"
   ]
  },
  {
   "cell_type": "code",
   "execution_count": 31,
   "metadata": {},
   "outputs": [
    {
     "data": {
      "image/png": "[encoded data removed]",
      "text/plain": [
       "<Figure size 432x288 with 1 Axes>"
      ]
     },
     "metadata": {
      "needs_background": "light"
     },
     "output_type": "display_data"
    }
   ],
   "source": [
    "plot_roc_curve(y_test, est.predict_proba(X_test)[:,1])"
   ]
  },
  {
   "cell_type": "code",
   "execution_count": null,
   "metadata": {},
   "outputs": [],
   "source": [
    "# построим ROC-кривую\n",
    "def plot_roc_curve(y_test, y_pred):\n",
    "    fper, tper, thresholds = roc_curve(y_test, y_pred)\n",
    "    roc_auc = auc(fper, tper)\n",
    "    plt.plot(fper, tper, color='green', label=f'ROC-кривая (area = {roc_auc:.3f})')\n",
    "    plt.plot([0, 1], [0, 1], color='red', linestyle='--')\n",
    "    plt.xlabel('False Positive Rate')\n",
    "    plt.ylabel('True Positive Rate')\n",
    "    plt.title(f'ROC AUC (area = {roc_auc:.3f})')\n",
    "    plt.legend(loc=\"lower right\")\n",
    "    plt.show()"
   ]
  },
  {
   "cell_type": "code",
   "execution_count": 40,
   "metadata": {},
   "outputs": [
    {
     "data": {
      "image/png": "[encoded data removed]",
      "text/plain": [
       "<Figure size 432x288 with 1 Axes>"
      ]
     },
     "metadata": {
      "needs_background": "light"
     },
     "output_type": "display_data"
    }
   ],
   "source": [
    "plot_roc_curve(y_test, est.predict_proba(X_test)[:,1])"
   ]
  },
  {
   "cell_type": "code",
   "execution_count": null,
   "metadata": {},
   "outputs": [],
   "source": []
  },
  {
   "cell_type": "code",
   "execution_count": null,
   "metadata": {},
   "outputs": [],
   "source": []
  },
  {
   "cell_type": "code",
   "execution_count": null,
   "metadata": {},
   "outputs": [],
   "source": []
  },
  {
   "cell_type": "code",
   "execution_count": 32,
   "metadata": {},
   "outputs": [],
   "source": [
    "data = pd.read_excel('one_hot_data.xlsx')"
   ]
  },
  {
   "cell_type": "code",
   "execution_count": 33,
   "metadata": {},
   "outputs": [],
   "source": [
    "df1 = data[data['status'] == 0].head(22000)\n",
    "df2 = data[data['status'] ==1]\n",
    "data = pd.concat([df1, df2])"
   ]
  },
  {
   "cell_type": "code",
   "execution_count": 34,
   "metadata": {},
   "outputs": [],
   "source": [
    "X = data.drop('status', axis=1)\n",
    "Y = data['status']\n",
    "#Train test split\n",
    "train_X, X_test, train_Y, y_test = train_test_split(X, Y, test_size=0.2, random_state=42)\n",
    "train_X.shape, X_test.shape, train_Y.shape, y_test.shape\n",
    "\n",
    "\n",
    "# validation-train split\n",
    "X_train, X_validation, y_train, y_validation = train_test_split(train_X, train_Y, train_size=0.75, random_state=42)\n"
   ]
  },
  {
   "cell_type": "code",
   "execution_count": 35,
   "metadata": {},
   "outputs": [
    {
     "name": "stdout",
     "output_type": "stream",
     "text": [
      "ROC-AUC 0.861\n"
     ]
    }
   ],
   "source": [
    "from catboost import CatBoostClassifier \n",
    "\n",
    "est = CatBoostClassifier(iterations=200, logging_level='Silent', max_depth = 3)\n",
    "est.fit(X_train, y_train)\n",
    "\n",
    "pred = est.predict(X_train)\n",
    "est.predict_proba(X_train)[0]  \n",
    "print('ROC-AUC', round(roc_auc_score(y_test, est.predict_proba(X_test)[:,1]),3))"
   ]
  },
  {
   "cell_type": "code",
   "execution_count": 36,
   "metadata": {},
   "outputs": [
    {
     "name": "stdout",
     "output_type": "stream",
     "text": [
      " Accuracy: 0.776\n",
      " Precision: 0.732\n",
      " Recall: 0.796\n",
      " f1_score: 0.763\n"
     ]
    }
   ],
   "source": [
    "quality_report(est.predict(X_test), y_test)"
   ]
  },
  {
   "cell_type": "code",
   "execution_count": 53,
   "metadata": {},
   "outputs": [
    {
     "ename": "NameError",
     "evalue": "name 'cv' is not defined",
     "output_type": "error",
     "traceback": [
      "\u001b[0;31m---------------------------------------------------------------------------\u001b[0m",
      "\u001b[0;31mNameError\u001b[0m                                 Traceback (most recent call last)",
      "\u001b[0;32m<ipython-input-53-318b50fa7a16>\u001b[0m in \u001b[0;36m<module>\u001b[0;34m\u001b[0m\n\u001b[1;32m      5\u001b[0m           \"roc_file\": \"roc-file\"}\n\u001b[1;32m      6\u001b[0m \u001b[0;34m\u001b[0m\u001b[0m\n\u001b[0;32m----> 7\u001b[0;31m scores = cv(cv_dataset,\n\u001b[0m\u001b[1;32m      8\u001b[0m             \u001b[0mparams\u001b[0m\u001b[0;34m,\u001b[0m\u001b[0;34m\u001b[0m\u001b[0;34m\u001b[0m\u001b[0m\n\u001b[1;32m      9\u001b[0m             fold_count=2)\n",
      "\u001b[0;31mNameError\u001b[0m: name 'cv' is not defined"
     ]
    }
   ],
   "source": [
    "params = {\"iterations\": 100,\n",
    "          \"depth\": 2,\n",
    "          \"loss_function\": \"Logloss\",\n",
    "          \"verbose\": False,\n",
    "          \"roc_file\": \"roc-file\"}\n",
    "\n",
    "scores = cv(cv_dataset,\n",
    "            params,\n",
    "            fold_count=2)\n"
   ]
  },
  {
   "cell_type": "code",
   "execution_count": null,
   "metadata": {},
   "outputs": [],
   "source": []
  }
 ],
 "metadata": {
  "kernelspec": {
   "display_name": "Python 3",
   "language": "python",
   "name": "python3"
  },
  "language_info": {
   "codemirror_mode": {
    "name": "ipython",
    "version": 3
   },
   "file_extension": ".py",
   "mimetype": "text/x-python",
   "name": "python",
   "nbconvert_exporter": "python",
   "pygments_lexer": "ipython3",
   "version": "3.8.5"
  }
 },
 "nbformat": 4,
 "nbformat_minor": 4
}
